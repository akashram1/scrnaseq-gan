{
 "cells": [
  {
   "cell_type": "code",
   "execution_count": 57,
   "metadata": {},
   "outputs": [
    {
     "name": "stdout",
     "output_type": "stream",
     "text": [
      "Populating the interactive namespace from numpy and matplotlib\n"
     ]
    }
   ],
   "source": [
    "import warnings; warnings.simplefilter('ignore')\n",
    "import numpy as np\n",
    "import pandas as pd\n",
    "import matplotlib.pyplot as plt\n",
    "import os\n",
    "import copy\n",
    "from sklearn.preprocessing import scale\n",
    "from sklearn.decomposition import PCA\n",
    "from sklearn.manifold import TSNE\n",
    "from sklearn.model_selection import train_test_split\n",
    "from sklearn.model_selection import KFold\n",
    "from sklearn.metrics import precision_recall_fscore_support\n",
    "from sklearn.neighbors import KNeighborsClassifier\n",
    "\n",
    "from sklearn.metrics import classification_report\n",
    "\n",
    "%matplotlib inline\n",
    "%pylab inline"
   ]
  },
  {
   "cell_type": "code",
   "execution_count": 87,
   "metadata": {},
   "outputs": [],
   "source": []
  },
  {
   "cell_type": "code",
   "execution_count": 89,
   "metadata": {},
   "outputs": [
    {
     "data": {
      "text/plain": [
       "(3067, 1)"
      ]
     },
     "execution_count": 89,
     "metadata": {},
     "output_type": "execute_result"
    }
   ],
   "source": [
    "y.shape"
   ]
  },
  {
   "cell_type": "code",
   "execution_count": 96,
   "metadata": {},
   "outputs": [
    {
     "name": "stdout",
     "output_type": "stream",
     "text": [
      "result for k: 20\n",
      "             precision    recall  f1-score   support\n",
      "\n",
      "      alpha       0.71      0.97      0.82       191\n",
      "       beta       0.83      0.48      0.61        79\n",
      "      delta       0.00      0.00      0.00        14\n",
      "      gamma       0.00      0.00      0.00        23\n",
      "\n",
      "avg / total       0.65      0.73      0.67       307\n",
      "\n",
      "result for k: 20\n",
      "             precision    recall  f1-score   support\n",
      "\n",
      "      alpha       0.68      0.97      0.80       180\n",
      "       beta       0.86      0.51      0.64        85\n",
      "      delta       0.00      0.00      0.00        16\n",
      "      gamma       0.00      0.00      0.00        26\n",
      "\n",
      "avg / total       0.64      0.71      0.65       307\n",
      "\n",
      "result for k: 20\n",
      "             precision    recall  f1-score   support\n",
      "\n",
      "      alpha       0.67      0.94      0.79       190\n",
      "       beta       0.72      0.45      0.55        65\n",
      "      delta       0.00      0.00      0.00        21\n",
      "      gamma       0.00      0.00      0.00        31\n",
      "\n",
      "avg / total       0.57      0.68      0.60       307\n",
      "\n",
      "result for k: 20\n",
      "             precision    recall  f1-score   support\n",
      "\n",
      "      alpha       0.73      0.96      0.83       192\n",
      "       beta       0.85      0.56      0.68        78\n",
      "      delta       0.00      0.00      0.00        10\n",
      "      gamma       0.00      0.00      0.00        27\n",
      "\n",
      "avg / total       0.67      0.75      0.69       307\n",
      "\n",
      "result for k: 20\n",
      "             precision    recall  f1-score   support\n",
      "\n",
      "      alpha       0.64      0.94      0.77       181\n",
      "       beta       0.71      0.43      0.54        67\n",
      "      delta       0.00      0.00      0.00        25\n",
      "      gamma       0.00      0.00      0.00        34\n",
      "\n",
      "avg / total       0.53      0.65      0.57       307\n",
      "\n",
      "result for k: 20\n",
      "             precision    recall  f1-score   support\n",
      "\n",
      "      alpha       0.68      0.96      0.79       189\n",
      "       beta       0.78      0.48      0.60        64\n",
      "      delta       0.00      0.00      0.00        17\n",
      "      gamma       0.00      0.00      0.00        37\n",
      "\n",
      "avg / total       0.58      0.69      0.61       307\n",
      "\n",
      "result for k: 20\n",
      "             precision    recall  f1-score   support\n",
      "\n",
      "      alpha       0.66      0.97      0.78       175\n",
      "       beta       0.90      0.49      0.64        87\n",
      "      delta       0.00      0.00      0.00        19\n",
      "      gamma       0.00      0.00      0.00        26\n",
      "\n",
      "avg / total       0.63      0.69      0.63       307\n",
      "\n",
      "result for k: 20\n",
      "             precision    recall  f1-score   support\n",
      "\n",
      "      alpha       0.63      0.96      0.77       171\n",
      "       beta       0.85      0.47      0.60        83\n",
      "      delta       0.00      0.00      0.00        20\n",
      "      gamma       0.00      0.00      0.00        32\n",
      "\n",
      "avg / total       0.58      0.67      0.59       306\n",
      "\n",
      "result for k: 20\n",
      "             precision    recall  f1-score   support\n",
      "\n",
      "      alpha       0.67      0.97      0.79       178\n",
      "       beta       0.85      0.45      0.59        92\n",
      "      delta       0.00      0.00      0.00        14\n",
      "      gamma       0.00      0.00      0.00        22\n",
      "\n",
      "avg / total       0.65      0.70      0.64       306\n",
      "\n",
      "result for k: 20\n",
      "             precision    recall  f1-score   support\n",
      "\n",
      "      alpha       0.67      0.99      0.80       185\n",
      "       beta       0.97      0.44      0.60        73\n",
      "      delta       0.00      0.00      0.00        16\n",
      "      gamma       0.00      0.00      0.00        32\n",
      "\n",
      "avg / total       0.64      0.71      0.63       306\n",
      "\n"
     ]
    }
   ],
   "source": [
    "x = pd.read_csv(\"x_pca\", header=None).values\n",
    "y = pd.read_csv(\"y_pca\", header=None).values\n",
    "\n",
    "kf = KFold(n_splits=10)\n",
    "\n",
    "for train_index, test_index in kf.split(x):\n",
    "    x_train = x[train_index, :]\n",
    "    x_test = x[test_index, :]\n",
    "    y_train = y[train_index]\n",
    "    y_test = y[test_index]\n",
    "    knn = KNN(x_train, y_train, x_test, y_test)\n",
    "    \n",
    "    knn.result_print()\n",
    "    \n",
    "    "
   ]
  },
  {
   "cell_type": "code",
   "execution_count": 80,
   "metadata": {},
   "outputs": [
    {
     "data": {
      "text/plain": [
       "(3067, 3)"
      ]
     },
     "execution_count": 80,
     "metadata": {},
     "output_type": "execute_result"
    }
   ],
   "source": [
    "tsne = pd.read_csv(\"tsne_pca_with_pheno.csv\", header=None)\n",
    "x = tsne.iloc[:, 0:2].values\n",
    "Y = tsne.iloc[:, 2].values\n",
    "\n",
    "tsne.shape"
   ]
  },
  {
   "cell_type": "code",
   "execution_count": 82,
   "metadata": {},
   "outputs": [
    {
     "data": {
      "text/plain": [
       "(3066,)"
      ]
     },
     "execution_count": 82,
     "metadata": {},
     "output_type": "execute_result"
    }
   ],
   "source": [
    "y.shape"
   ]
  },
  {
   "cell_type": "markdown",
   "metadata": {},
   "source": [
    "## gan"
   ]
  },
  {
   "cell_type": "code",
   "execution_count": 97,
   "metadata": {},
   "outputs": [
    {
     "name": "stdout",
     "output_type": "stream",
     "text": [
      "result for k: 20\n",
      "             precision    recall  f1-score   support\n",
      "\n",
      "      alpha       0.62      0.95      0.75       191\n",
      "       beta       0.14      0.03      0.04        79\n",
      "      delta       0.00      0.00      0.00        14\n",
      "      gamma       0.00      0.00      0.00        23\n",
      "\n",
      "avg / total       0.42      0.60      0.48       307\n",
      "\n",
      "result for k: 20\n",
      "             precision    recall  f1-score   support\n",
      "\n",
      "      alpha       0.59      0.98      0.74       180\n",
      "       beta       0.33      0.04      0.06        85\n",
      "      delta       0.00      0.00      0.00        16\n",
      "      gamma       0.00      0.00      0.00        26\n",
      "\n",
      "avg / total       0.44      0.58      0.45       307\n",
      "\n",
      "result for k: 20\n",
      "             precision    recall  f1-score   support\n",
      "\n",
      "      alpha       0.61      0.96      0.75       190\n",
      "       beta       0.27      0.05      0.08        65\n",
      "      delta       0.00      0.00      0.00        21\n",
      "      gamma       0.00      0.00      0.00        31\n",
      "\n",
      "avg / total       0.44      0.60      0.48       307\n",
      "\n",
      "result for k: 20\n",
      "             precision    recall  f1-score   support\n",
      "\n",
      "      alpha       0.63      0.99      0.77       192\n",
      "       beta       0.50      0.01      0.03        78\n",
      "      delta       0.00      0.00      0.00        10\n",
      "      gamma       0.00      0.00      0.00        27\n",
      "\n",
      "avg / total       0.52      0.63      0.49       307\n",
      "\n",
      "result for k: 20\n",
      "             precision    recall  f1-score   support\n",
      "\n",
      "      alpha       0.59      0.97      0.74       181\n",
      "       beta       0.10      0.01      0.03        67\n",
      "      delta       0.00      0.00      0.00        25\n",
      "      gamma       0.00      0.00      0.00        34\n",
      "\n",
      "avg / total       0.37      0.58      0.44       307\n",
      "\n",
      "result for k: 20\n",
      "             precision    recall  f1-score   support\n",
      "\n",
      "      alpha       0.62      0.97      0.75       189\n",
      "       beta       0.30      0.05      0.08        64\n",
      "      delta       0.00      0.00      0.00        17\n",
      "      gamma       0.00      0.00      0.00        37\n",
      "\n",
      "avg / total       0.44      0.61      0.48       307\n",
      "\n",
      "result for k: 20\n",
      "             precision    recall  f1-score   support\n",
      "\n",
      "      alpha       0.57      0.97      0.72       175\n",
      "       beta       0.29      0.02      0.04        87\n",
      "      delta       0.00      0.00      0.00        19\n",
      "      gamma       0.00      0.00      0.00        26\n",
      "\n",
      "avg / total       0.40      0.56      0.42       307\n",
      "\n",
      "result for k: 20\n",
      "             precision    recall  f1-score   support\n",
      "\n",
      "      alpha       0.56      0.98      0.71       171\n",
      "       beta       0.29      0.02      0.04        83\n",
      "      delta       0.00      0.00      0.00        20\n",
      "      gamma       0.00      0.00      0.00        32\n",
      "\n",
      "avg / total       0.39      0.55      0.41       306\n",
      "\n",
      "result for k: 20\n",
      "             precision    recall  f1-score   support\n",
      "\n",
      "      alpha       0.58      0.97      0.72       178\n",
      "       beta       0.17      0.01      0.02        92\n",
      "      delta       0.00      0.00      0.00        14\n",
      "      gamma       0.00      0.00      0.00        22\n",
      "\n",
      "avg / total       0.39      0.57      0.43       306\n",
      "\n",
      "result for k: 20\n",
      "             precision    recall  f1-score   support\n",
      "\n",
      "      alpha       0.60      0.98      0.75       185\n",
      "       beta       0.40      0.03      0.05        73\n",
      "      delta       0.00      0.00      0.00        16\n",
      "      gamma       0.00      0.00      0.00        32\n",
      "\n",
      "avg / total       0.46      0.60      0.47       306\n",
      "\n"
     ]
    }
   ],
   "source": [
    "tsne = pd.read_csv(\"tsne_gans_with_pheno.csv\", header=None)\n",
    "x = tsne.iloc[:, 0:2].values\n",
    "Y = tsne.iloc[:, -1].values\n",
    "\n",
    "kf = KFold(n_splits=10)\n",
    "for train_index, test_index in kf.split(x):\n",
    "    x_train = x[train_index, :]\n",
    "    x_test = x[test_index, :]\n",
    "    y_train = y[train_index]\n",
    "    y_test = y[test_index]\n",
    "    knn = KNN(x_train, y_train, x_test, y_test)\n",
    "    \n",
    "    knn.result_print()"
   ]
  },
  {
   "cell_type": "code",
   "execution_count": null,
   "metadata": {},
   "outputs": [],
   "source": []
  },
  {
   "cell_type": "code",
   "execution_count": 95,
   "metadata": {},
   "outputs": [],
   "source": [
    "\n",
    "\n",
    "class KNN:\n",
    "    def __init__(self, x_train, y_train, x_test, y_test, k=[20]):\n",
    "        self.x_train = x_train\n",
    "        self.y_train = y_train\n",
    "        self.x_test = x_test\n",
    "        self.y_test = y_test\n",
    "        self.k = k\n",
    "        self.name = 'KNN'\n",
    "        self.results = {}\n",
    "        \n",
    "        for k in self.k:\n",
    "            self.results[k] = {'precision': 0, 'recall': 0, 'f1_score': 0, 'time': 0}\n",
    "        \n",
    "        self.driver()\n",
    "\n",
    "    def knn_classify(self, knn):\n",
    "        clf = knn.fit(self.x_train, self.y_train)\n",
    "        predictions = clf.predict(self.x_test)\n",
    "\n",
    "        return predictions\n",
    "\n",
    "    def classify(self, k):\n",
    "        knn = KNeighborsClassifier(n_neighbors=k, algorithm='brute', metric=\"euclidean\")\n",
    "\n",
    "        predictions = self.knn_classify(knn)\n",
    "        #precision, recall, f1_score = classification_report(self.y_test, predictions)\n",
    "        targets = [\"alpha\", \"beta\", \"delta\", \"gamma\"]\n",
    "        print(\"result for k: {}\".format(k))\n",
    "        print(classification_report(self.y_test, predictions, target_names=targets))\n",
    "\n",
    "        #return precision, recall, f1_score\n",
    "    \n",
    "    def driver(self):\n",
    "        for k in self.k:\n",
    "            self.classify(k)\n",
    "            \n",
    "\n",
    "    def result_print(self):\n",
    "        pass\n",
    "        \n",
    "        \n",
    "        "
   ]
  },
  {
   "cell_type": "code",
   "execution_count": 58,
   "metadata": {},
   "outputs": [],
   "source": [
    "classification_report??"
   ]
  },
  {
   "cell_type": "code",
   "execution_count": null,
   "metadata": {},
   "outputs": [],
   "source": []
  }
 ],
 "metadata": {
  "kernelspec": {
   "display_name": "Python 3",
   "language": "python",
   "name": "python3"
  },
  "language_info": {
   "codemirror_mode": {
    "name": "ipython",
    "version": 3
   },
   "file_extension": ".py",
   "mimetype": "text/x-python",
   "name": "python",
   "nbconvert_exporter": "python",
   "pygments_lexer": "ipython3",
   "version": "3.6.5"
  }
 },
 "nbformat": 4,
 "nbformat_minor": 2
}
